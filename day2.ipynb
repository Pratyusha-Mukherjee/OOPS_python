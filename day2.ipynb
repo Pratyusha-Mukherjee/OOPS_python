{
 "cells": [
  {
   "cell_type": "markdown",
   "metadata": {},
   "source": [
    "### Inheritence:\n",
    "#### create a ElectricCar class that inherits from Car class and has an additional attribute battery_size"
   ]
  },
  {
   "cell_type": "code",
   "execution_count": 5,
   "metadata": {},
   "outputs": [
    {
     "name": "stdout",
     "output_type": "stream",
     "text": [
      "Tesla model S5\n",
      "85kwH\n"
     ]
    }
   ],
   "source": [
    "class Car:\n",
    "    def __init__(self,brand,model):\n",
    "        self.brand = brand\n",
    "        self.model = model\n",
    "\n",
    "    def Fullname(self):\n",
    "        return f\"{self.brand} {self.model}\"\n",
    "    \n",
    "class ElectricCar(Car):\n",
    "        def __init__(self,brand,model,battery_size):\n",
    "             self.battery_size=battery_size\n",
    "             super().__init__(brand,model)\n",
    "\n",
    "\n",
    "my_tesla = ElectricCar(\"Tesla\",\"model S5\",\"85kwH\")\n",
    "print(my_tesla.Fullname())  \n",
    "print(my_tesla.battery_size)           "
   ]
  },
  {
   "cell_type": "markdown",
   "metadata": {},
   "source": [
    "### Encapsulation\n",
    "#### Modify the Car class to encapsulate the brand attribute , making it private , and provide a getter method for it"
   ]
  },
  {
   "cell_type": "code",
   "execution_count": 9,
   "metadata": {},
   "outputs": [
    {
     "name": "stdout",
     "output_type": "stream",
     "text": [
      "Tesla!\n",
      "Tesla model S5\n",
      "85kwH\n"
     ]
    }
   ],
   "source": [
    "class Car:\n",
    "    def __init__(self,brand,model):\n",
    "        self.__brand = brand\n",
    "        self.model = model\n",
    "\n",
    "    def get_brand(self):\n",
    "         return self.__brand+\"!\"  \n",
    "\n",
    "    def Fullname(self):\n",
    "        return f\"{self.__brand} {self.model}\"\n",
    "    \n",
    "class ElectricCar(Car):\n",
    "        def __init__(self,brand,model,battery_size):\n",
    "             self.battery_size=battery_size\n",
    "             super().__init__(brand,model)\n",
    "\n",
    "\n",
    "my_tesla = ElectricCar(\"Tesla\",\"model S5\",\"85kwH\")\n",
    "print(my_tesla.get_brand())\n",
    "print(my_tesla.Fullname())  \n",
    "print(my_tesla.battery_size)      "
   ]
  },
  {
   "cell_type": "markdown",
   "metadata": {},
   "source": [
    "### polymorphism\n",
    "#### demostrate polymorphism by defining a method fuel_type in both car and electriccar class,but with different behaviors"
   ]
  },
  {
   "cell_type": "code",
   "execution_count": 10,
   "metadata": {},
   "outputs": [
    {
     "name": "stdout",
     "output_type": "stream",
     "text": [
      "electric-charge\n",
      "petrol or diesel\n"
     ]
    }
   ],
   "source": [
    "class Car:\n",
    "    def __init__(self,brand,model):\n",
    "        self.__brand = brand\n",
    "        self.model = model\n",
    "\n",
    "    def get_brand(self):\n",
    "         return self.__brand+\"!\" \n",
    "\n",
    "    def fuel_type(self):\n",
    "         return \"petrol or diesel\" \n",
    "\n",
    "    def Fullname(self):\n",
    "        return f\"{self.__brand} {self.model}\"\n",
    "    \n",
    "class ElectricCar(Car):\n",
    "        def __init__(self,brand,model,battery_size):\n",
    "             self.battery_size=battery_size\n",
    "             super().__init__(brand,model)\n",
    "        def fuel_type(self):\n",
    "            return \"electric-charge\" \n",
    "\n",
    "tesla =  ElectricCar(\"Tesla\",\"model S5\",\"85kwH\")\n",
    "safari = Car(\"Tata\",\"Safari\")    \n",
    "print(tesla.fuel_type()) \n",
    "print(safari.fuel_type())      "
   ]
  },
  {
   "cell_type": "code",
   "execution_count": null,
   "metadata": {},
   "outputs": [],
   "source": []
  }
 ],
 "metadata": {
  "kernelspec": {
   "display_name": "Python 3",
   "language": "python",
   "name": "python3"
  },
  "language_info": {
   "codemirror_mode": {
    "name": "ipython",
    "version": 3
   },
   "file_extension": ".py",
   "mimetype": "text/x-python",
   "name": "python",
   "nbconvert_exporter": "python",
   "pygments_lexer": "ipython3",
   "version": "3.11.4"
  }
 },
 "nbformat": 4,
 "nbformat_minor": 2
}
