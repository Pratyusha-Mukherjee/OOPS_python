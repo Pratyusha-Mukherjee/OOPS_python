{
 "cells": [
  {
   "cell_type": "markdown",
   "metadata": {},
   "source": [
    "### create a car class with attribute like brand and Model then create a instance of this class"
   ]
  },
  {
   "cell_type": "code",
   "execution_count": 3,
   "metadata": {},
   "outputs": [
    {
     "name": "stdout",
     "output_type": "stream",
     "text": [
      "Toyota\n",
      "corolla\n",
      "Safari\n"
     ]
    }
   ],
   "source": [
    "class Car:\n",
    "    def __init__(self,brand,model):\n",
    "        self.brand=brand\n",
    "        self.model=model\n",
    "\n",
    "my_car1 = Car(\"Toyota\",\"corolla\")\n",
    "my_car2 = Car(\"Tata\",\"Safari\")\n",
    "print(my_car1.brand)\n",
    "print(my_car1.model)\n",
    "print(my_car2.model)"
   ]
  },
  {
   "cell_type": "markdown",
   "metadata": {},
   "source": [
    "### Add a method to the class that displays full name of the car(brand and model)"
   ]
  },
  {
   "cell_type": "code",
   "execution_count": 4,
   "metadata": {},
   "outputs": [
    {
     "name": "stdout",
     "output_type": "stream",
     "text": [
      "Toyota corolla\n",
      "Tata Safari\n"
     ]
    }
   ],
   "source": [
    "class Car:\n",
    "    def __init__(self,brand,model):\n",
    "        self.brand=brand\n",
    "        self.model=model\n",
    "\n",
    "    def fullname(self):  \n",
    "        return f\"{self.brand} {self.model}\"\n",
    "\n",
    "\n",
    "\n",
    "my_car1 = Car(\"Toyota\",\"corolla\")\n",
    "my_car2 = Car(\"Tata\",\"Safari\")\n",
    "print(my_car1.fullname())\n",
    "print(my_car2.fullname())"
   ]
  }
 ],
 "metadata": {
  "kernelspec": {
   "display_name": "Python 3",
   "language": "python",
   "name": "python3"
  },
  "language_info": {
   "codemirror_mode": {
    "name": "ipython",
    "version": 3
   },
   "file_extension": ".py",
   "mimetype": "text/x-python",
   "name": "python",
   "nbconvert_exporter": "python",
   "pygments_lexer": "ipython3",
   "version": "3.11.4"
  }
 },
 "nbformat": 4,
 "nbformat_minor": 2
}
